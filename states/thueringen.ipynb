{
 "cells": [
  {
   "cell_type": "code",
   "execution_count": 1,
   "metadata": {
    "collapsed": true
   },
   "outputs": [],
   "source": [
    "from glob import glob\n",
    "import re\n",
    "\n",
    "import pandas as pd"
   ]
  },
  {
   "cell_type": "code",
   "execution_count": 2,
   "metadata": {
    "collapsed": true
   },
   "outputs": [],
   "source": [
    "data = []\n",
    "AGS_RE = re.compile('\\d{3}')\n",
    "PATHS = 'raw/Pflegestatistik_2013_Thüringen_{}.xls'"
   ]
  },
  {
   "cell_type": "code",
   "execution_count": 3,
   "metadata": {
    "collapsed": false
   },
   "outputs": [],
   "source": [
    "file_mapping = {\n",
    "    'beds': '1',\n",
    "    'recipients': '2',\n",
    "    'personal': '3',\n",
    "    'costs': '4'\n",
    "}"
   ]
  },
  {
   "cell_type": "code",
   "execution_count": 4,
   "metadata": {
    "collapsed": false
   },
   "outputs": [],
   "source": [
    "def get_values(filename, mapping, column_rename=('key', 'value'), prefix='personal', indicator='key', skip_on=None, skiprows=None):\n",
    "    ex = pd.ExcelFile(filename)\n",
    "    cache = set()\n",
    "    for sheet in ex.sheet_names:\n",
    "        match = AGS_RE.search(sheet)\n",
    "        if match is None:\n",
    "            continue\n",
    "        ags = '16' + match.group(0)\n",
    "        df = ex.parse(sheet, skiprows=skiprows)\n",
    "        df = df.rename(columns={c: v for c, v in zip(df.columns, column_rename)})\n",
    "        for i, row in df.iterrows():\n",
    "            if pd.isnull(row['key']):\n",
    "                continue\n",
    "            if skip_on is not None and row['key'] in skip_on:\n",
    "                ags = None\n",
    "                continue\n",
    "            for k, v in mapping.items():\n",
    "                if k in row['key']:\n",
    "                    if isinstance(row['value'], str):\n",
    "                        val = row['value'].replace('-', '0').strip()\n",
    "                        if val == '.':\n",
    "                            val = None\n",
    "                        else:\n",
    "                            val = float(val)\n",
    "                    else:\n",
    "                        val = row['value']\n",
    "                    cache_key = '%s-%s' % (ags, v)\n",
    "                    if cache_key not in cache:\n",
    "                        yield ags, prefix, v, val\n",
    "                        cache.add(cache_key)\n"
   ]
  },
  {
   "cell_type": "code",
   "execution_count": 5,
   "metadata": {
    "collapsed": false
   },
   "outputs": [
    {
     "name": "stdout",
     "output_type": "stream",
     "text": [
      "[('16051', 'beds', '1-bed', 1540), ('16051', 'beds', '2-bed', 965), ('16051', 'beds', '3-bed', 0.0), ('16051', 'beds', '4-bed', 0.0), ('16052', 'beds', '1-bed', 1043), ('16052', 'beds', '2-bed', 218), ('16052', 'beds', '3-bed', 0.0), ('16052', 'beds', '4-bed', 0.0), ('16053', 'beds', '1-bed', 668), ('16053', 'beds', '2-bed', 438), ('16053', 'beds', '3-bed', 0.0), ('16053', 'beds', '4-bed', 0.0), ('16054', 'beds', '1-bed', 280), ('16054', 'beds', '2-bed', 118), ('16054', 'beds', '3-bed', 0.0), ('16054', 'beds', '4-bed', 0.0), ('16055', 'beds', '1-bed', 623), ('16055', 'beds', '2-bed', 248), ('16055', 'beds', '3-bed', 0.0), ('16055', 'beds', '4-bed', 0.0), ('16056', 'beds', '1-bed', 391), ('16056', 'beds', '2-bed', 172), ('16056', 'beds', '3-bed', 0.0), ('16056', 'beds', '4-bed', 0.0), ('16061', 'beds', '1-bed', 683.0), ('16061', 'beds', '2-bed', 235.0), ('16061', 'beds', '3-bed', 29.0), ('16061', 'beds', '4-bed', 12.0), ('16062', 'beds', '1-bed', 913), ('16062', 'beds', '2-bed', 460), ('16062', 'beds', '3-bed', 0.0), ('16062', 'beds', '4-bed', 0.0), ('16063', 'beds', '1-bed', 914), ('16063', 'beds', '2-bed', 377), ('16063', 'beds', '3-bed', 0.0), ('16063', 'beds', '4-bed', 0.0), ('16064', 'beds', '1-bed', 904), ('16064', 'beds', '2-bed', 456), ('16064', 'beds', '3-bed', 0.0), ('16064', 'beds', '4-bed', 0.0), ('16065', 'beds', '1-bed', 611), ('16065', 'beds', '2-bed', 302), ('16065', 'beds', '3-bed', 0.0), ('16065', 'beds', '4-bed', 0.0), ('16066', 'beds', '1-bed', 917), ('16066', 'beds', '2-bed', 424), ('16066', 'beds', '3-bed', 0.0), ('16066', 'beds', '4-bed', 0.0), ('16067', 'beds', '1-bed', 1046), ('16067', 'beds', '2-bed', 468), ('16067', 'beds', '3-bed', 0.0), ('16067', 'beds', '4-bed', 0.0), ('16068', 'beds', '1-bed', 413), ('16068', 'beds', '2-bed', 222), ('16068', 'beds', '3-bed', 3), ('16068', 'beds', '4-bed', 0.0), ('16069', 'beds', '1-bed', 590), ('16069', 'beds', '2-bed', 280), ('16069', 'beds', '3-bed', 0.0), ('16069', 'beds', '4-bed', 0.0), ('16070', 'beds', '1-bed', 889), ('16070', 'beds', '2-bed', 298), ('16070', 'beds', '3-bed', 0.0), ('16070', 'beds', '4-bed', 0.0), ('16071', 'beds', '1-bed', 551), ('16071', 'beds', '2-bed', 312), ('16071', 'beds', '3-bed', 0.0), ('16071', 'beds', '4-bed', 0.0), ('16072', 'beds', '1-bed', 360), ('16072', 'beds', '2-bed', 239), ('16072', 'beds', '3-bed', 0.0), ('16072', 'beds', '4-bed', 0.0), ('16073', 'beds', '1-bed', 844), ('16073', 'beds', '2-bed', 396), ('16073', 'beds', '3-bed', 0.0), ('16073', 'beds', '4-bed', 0.0), ('16074', 'beds', '1-bed', 388), ('16074', 'beds', '2-bed', 258), ('16074', 'beds', '3-bed', 0.0), ('16074', 'beds', '4-bed', 0.0), ('16075', 'beds', '1-bed', 501), ('16075', 'beds', '2-bed', 209), ('16075', 'beds', '3-bed', 0.0), ('16075', 'beds', '4-bed', 0.0), ('16076', 'beds', '1-bed', 800), ('16076', 'beds', '2-bed', 474), ('16076', 'beds', '3-bed', 0.0), ('16076', 'beds', '4-bed', 0.0), ('16077', 'beds', '1-bed', 847), ('16077', 'beds', '2-bed', 349), ('16077', 'beds', '3-bed', 0.0), ('16077', 'beds', '4-bed', 0.0)]\n"
     ]
    }
   ],
   "source": [
    "filename = PATHS.format(file_mapping['beds'])\n",
    "\n",
    "bed_mapping = {\n",
    "  '1-Bett-Zimmern': '1-bed',\n",
    "  '2-Bett-Zimmern': '2-bed',\n",
    "  '3-Bett-Zimmern': '3-bed',\n",
    "  '4 und mehr-Bett-Zimmern': '4-bed'\n",
    "}\n",
    "\n",
    "\n",
    "l = list(get_values(filename, bed_mapping, prefix='beds', skiprows=12))\n",
    "print(l)\n",
    "data.extend(l)"
   ]
  },
  {
   "cell_type": "code",
   "execution_count": 6,
   "metadata": {
    "collapsed": false
   },
   "outputs": [
    {
     "name": "stdout",
     "output_type": "stream",
     "text": [
      "[('16051', 'recipients', 'recipients_nursing_class_1', 1019), ('16051', 'recipients', 'recipients_nursing_class_2', 826), ('16051', 'recipients', 'recipients_nursing_class_3', 456), ('16051', 'recipients', 'recipients_nursing_class_unknown', 20), ('16052', 'recipients', 'recipients_nursing_class_1', 367), ('16052', 'recipients', 'recipients_nursing_class_2', 556), ('16052', 'recipients', 'recipients_nursing_class_3', 318), ('16052', 'recipients', 'recipients_nursing_class_unknown', 4), ('16053', 'recipients', 'recipients_nursing_class_1', 399), ('16053', 'recipients', 'recipients_nursing_class_2', 475), ('16053', 'recipients', 'recipients_nursing_class_3', 209), ('16053', 'recipients', 'recipients_nursing_class_unknown', 2), ('16054', 'recipients', 'recipients_nursing_class_1', 100), ('16054', 'recipients', 'recipients_nursing_class_2', 157), ('16054', 'recipients', 'recipients_nursing_class_3', 113), ('16054', 'recipients', 'recipients_nursing_class_unknown', 0.0), ('16055', 'recipients', 'recipients_nursing_class_1', 300), ('16055', 'recipients', 'recipients_nursing_class_2', 312), ('16055', 'recipients', 'recipients_nursing_class_3', 216), ('16055', 'recipients', 'recipients_nursing_class_unknown', 1), ('16056', 'recipients', 'recipients_nursing_class_1', 230), ('16056', 'recipients', 'recipients_nursing_class_2', 159), ('16056', 'recipients', 'recipients_nursing_class_3', 122), ('16056', 'recipients', 'recipients_nursing_class_unknown', 3), ('16061', 'recipients', 'recipients_nursing_class_1', 320), ('16061', 'recipients', 'recipients_nursing_class_2', 373), ('16061', 'recipients', 'recipients_nursing_class_3', 212), ('16061', 'recipients', 'recipients_nursing_class_unknown', 2), ('16062', 'recipients', 'recipients_nursing_class_1', 525), ('16062', 'recipients', 'recipients_nursing_class_2', 471), ('16062', 'recipients', 'recipients_nursing_class_3', 154), ('16062', 'recipients', 'recipients_nursing_class_unknown', 10), ('16063', 'recipients', 'recipients_nursing_class_1', 551), ('16063', 'recipients', 'recipients_nursing_class_2', 465), ('16063', 'recipients', 'recipients_nursing_class_3', 218), ('16063', 'recipients', 'recipients_nursing_class_unknown', 7), ('16064', 'recipients', 'recipients_nursing_class_1', 519), ('16064', 'recipients', 'recipients_nursing_class_2', 528), ('16064', 'recipients', 'recipients_nursing_class_3', 237), ('16064', 'recipients', 'recipients_nursing_class_unknown', 4), ('16065', 'recipients', 'recipients_nursing_class_1', 304), ('16065', 'recipients', 'recipients_nursing_class_2', 377), ('16065', 'recipients', 'recipients_nursing_class_3', 204), ('16065', 'recipients', 'recipients_nursing_class_unknown', 1), ('16066', 'recipients', 'recipients_nursing_class_1', 492), ('16066', 'recipients', 'recipients_nursing_class_2', 548), ('16066', 'recipients', 'recipients_nursing_class_3', 253), ('16066', 'recipients', 'recipients_nursing_class_unknown', 1), ('16067', 'recipients', 'recipients_nursing_class_1', 566), ('16067', 'recipients', 'recipients_nursing_class_2', 578), ('16067', 'recipients', 'recipients_nursing_class_3', 281), ('16067', 'recipients', 'recipients_nursing_class_unknown', 5), ('16068', 'recipients', 'recipients_nursing_class_1', 237), ('16068', 'recipients', 'recipients_nursing_class_2', 218), ('16068', 'recipients', 'recipients_nursing_class_3', 131), ('16068', 'recipients', 'recipients_nursing_class_unknown', 4), ('16069', 'recipients', 'recipients_nursing_class_1', 267), ('16069', 'recipients', 'recipients_nursing_class_2', 338), ('16069', 'recipients', 'recipients_nursing_class_3', 206), ('16069', 'recipients', 'recipients_nursing_class_unknown', 1), ('16070', 'recipients', 'recipients_nursing_class_1', 413), ('16070', 'recipients', 'recipients_nursing_class_2', 469), ('16070', 'recipients', 'recipients_nursing_class_3', 237), ('16070', 'recipients', 'recipients_nursing_class_unknown', 12), ('16071', 'recipients', 'recipients_nursing_class_1', 320), ('16071', 'recipients', 'recipients_nursing_class_2', 344), ('16071', 'recipients', 'recipients_nursing_class_3', 143), ('16071', 'recipients', 'recipients_nursing_class_unknown', 7), ('16072', 'recipients', 'recipients_nursing_class_1', 188), ('16072', 'recipients', 'recipients_nursing_class_2', 277), ('16072', 'recipients', 'recipients_nursing_class_3', 110), ('16072', 'recipients', 'recipients_nursing_class_unknown', 0.0), ('16073', 'recipients', 'recipients_nursing_class_1', 447), ('16073', 'recipients', 'recipients_nursing_class_2', 522), ('16073', 'recipients', 'recipients_nursing_class_3', 231), ('16073', 'recipients', 'recipients_nursing_class_unknown', 3), ('16074', 'recipients', 'recipients_nursing_class_1', 224), ('16074', 'recipients', 'recipients_nursing_class_2', 274), ('16074', 'recipients', 'recipients_nursing_class_3', 125), ('16074', 'recipients', 'recipients_nursing_class_unknown', 2), ('16075', 'recipients', 'recipients_nursing_class_1', 226), ('16075', 'recipients', 'recipients_nursing_class_2', 301), ('16075', 'recipients', 'recipients_nursing_class_3', 166), ('16075', 'recipients', 'recipients_nursing_class_unknown', 2), ('16076', 'recipients', 'recipients_nursing_class_1', 510), ('16076', 'recipients', 'recipients_nursing_class_2', 509), ('16076', 'recipients', 'recipients_nursing_class_3', 191), ('16076', 'recipients', 'recipients_nursing_class_unknown', 1), ('16077', 'recipients', 'recipients_nursing_class_1', 384), ('16077', 'recipients', 'recipients_nursing_class_2', 540), ('16077', 'recipients', 'recipients_nursing_class_3', 235), ('16077', 'recipients', 'recipients_nursing_class_unknown', 1)]\n"
     ]
    }
   ],
   "source": [
    "filename = PATHS.format(file_mapping['recipients'])\n",
    "\n",
    "recipient_mapping = {\n",
    "    'Pflegestufe I ': 'recipients_nursing_class_1',\n",
    "    'Pflegestufe II ': 'recipients_nursing_class_2',\n",
    "    'Pflegestufe III ': 'recipients_nursing_class_3',\n",
    "    'Pflegestufe zugeordnet': 'recipients_nursing_class_unknown',\n",
    "}\n",
    "\n",
    "\n",
    "l = list(get_values(filename, recipient_mapping, column_rename=('key', '_blank_', 'value'), prefix='recipients', skiprows=12))\n",
    "print(l)\n",
    "data.extend(l)"
   ]
  },
  {
   "cell_type": "code",
   "execution_count": 7,
   "metadata": {
    "collapsed": false
   },
   "outputs": [
    {
     "name": "stdout",
     "output_type": "stream",
     "text": [
      "[('16051', 'personal', 'total_personnel', 1579.0), ('16051', 'personal', 'nursing_and_care', 1142.0), ('16051', 'personal', 'social_care', 91.0), ('16051', 'personal', 'other_care', 80.0), ('16051', 'personal', 'fully_employed', 486.0), ('16051', 'personal', 'part-time', 903.0), ('16052', 'personal', 'total_personnel', 849.0), ('16052', 'personal', 'nursing_and_care', 661.0), ('16052', 'personal', 'social_care', 38.0), ('16052', 'personal', 'other_care', 39.0), ('16052', 'personal', 'fully_employed', 298.0), ('16052', 'personal', 'part-time', 478.0), ('16053', 'personal', 'total_personnel', 754.0), ('16053', 'personal', 'nursing_and_care', 558.0), ('16053', 'personal', 'social_care', 45.0), ('16053', 'personal', 'other_care', 31.0), ('16053', 'personal', 'fully_employed', 152.0), ('16053', 'personal', 'part-time', 501.0), ('16054', 'personal', 'total_personnel', 310.0), ('16054', 'personal', 'nursing_and_care', 233.0), ('16054', 'personal', 'social_care', 13.0), ('16054', 'personal', 'other_care', 10.0), ('16054', 'personal', 'fully_employed', 108.0), ('16054', 'personal', 'part-time', 176.0), ('16055', 'personal', 'total_personnel', 650.0), ('16055', 'personal', 'nursing_and_care', 467.0), ('16055', 'personal', 'social_care', 54.0), ('16055', 'personal', 'other_care', 31.0), ('16055', 'personal', 'fully_employed', 153.0), ('16055', 'personal', 'part-time', 374.0), ('16056', 'personal', 'total_personnel', 453.0), ('16056', 'personal', 'nursing_and_care', 305.0), ('16056', 'personal', 'social_care', 28.0), ('16056', 'personal', 'other_care', 21.0), ('16056', 'personal', 'fully_employed', 80.0), ('16056', 'personal', 'part-time', 335.0), ('16061', 'personal', 'total_personnel', 783.0), ('16061', 'personal', 'nursing_and_care', 551.0), ('16061', 'personal', 'social_care', 38.0), ('16061', 'personal', 'other_care', 28.0), ('16061', 'personal', 'fully_employed', 96.0), ('16061', 'personal', 'part-time', 569.0), ('16062', 'personal', 'total_personnel', 1001.0), ('16062', 'personal', 'nursing_and_care', 713.0), ('16062', 'personal', 'social_care', 65.0), ('16062', 'personal', 'other_care', 31.0), ('16062', 'personal', 'fully_employed', 295.0), ('16062', 'personal', 'part-time', 578.0), ('16063', 'personal', 'total_personnel', 1001.0), ('16063', 'personal', 'nursing_and_care', 685.0), ('16063', 'personal', 'social_care', 43.0), ('16063', 'personal', 'other_care', 50.0), ('16063', 'personal', 'fully_employed', 191.0), ('16063', 'personal', 'part-time', 717.0), ('16064', 'personal', 'total_personnel', 896.0), ('16064', 'personal', 'nursing_and_care', 675.0), ('16064', 'personal', 'social_care', 48.0), ('16064', 'personal', 'other_care', 41.0), ('16064', 'personal', 'fully_employed', 209.0), ('16064', 'personal', 'part-time', 591.0), ('16065', 'personal', 'total_personnel', 676.0), ('16065', 'personal', 'nursing_and_care', 469.0), ('16065', 'personal', 'social_care', 49.0), ('16065', 'personal', 'other_care', 22.0), ('16065', 'personal', 'fully_employed', 144.0), ('16065', 'personal', 'part-time', 441.0), ('16066', 'personal', 'total_personnel', 1137.0), ('16066', 'personal', 'nursing_and_care', 742.0), ('16066', 'personal', 'social_care', 64.0), ('16066', 'personal', 'other_care', 46.0), ('16066', 'personal', 'fully_employed', 237.0), ('16066', 'personal', 'part-time', 744.0), ('16067', 'personal', 'total_personnel', 984.0), ('16067', 'personal', 'nursing_and_care', 672.0), ('16067', 'personal', 'social_care', 49.0), ('16067', 'personal', 'other_care', 53.0), ('16067', 'personal', 'fully_employed', 374.0), ('16067', 'personal', 'part-time', 532.0), ('16068', 'personal', 'total_personnel', 399.0), ('16068', 'personal', 'nursing_and_care', 292.0), ('16068', 'personal', 'social_care', 24.0), ('16068', 'personal', 'other_care', 19.0), ('16068', 'personal', 'fully_employed', 133.0), ('16068', 'personal', 'part-time', 218.0), ('16069', 'personal', 'total_personnel', 702.0), ('16069', 'personal', 'nursing_and_care', 510.0), ('16069', 'personal', 'social_care', 25.0), ('16069', 'personal', 'other_care', 25.0), ('16069', 'personal', 'fully_employed', 116.0), ('16069', 'personal', 'part-time', 502.0), ('16070', 'personal', 'total_personnel', 833.0), ('16070', 'personal', 'nursing_and_care', 593.0), ('16070', 'personal', 'social_care', 43.0), ('16070', 'personal', 'other_care', 42.0), ('16070', 'personal', 'fully_employed', 282.0), ('16070', 'personal', 'part-time', 434.0), ('16071', 'personal', 'total_personnel', 531.0), ('16071', 'personal', 'nursing_and_care', 386.0), ('16071', 'personal', 'social_care', 22.0), ('16071', 'personal', 'other_care', 29.0), ('16071', 'personal', 'fully_employed', 186.0), ('16071', 'personal', 'part-time', 276.0), ('16072', 'personal', 'total_personnel', 462.0), ('16072', 'personal', 'nursing_and_care', 322.0), ('16072', 'personal', 'social_care', 22.0), ('16072', 'personal', 'other_care', 25.0), ('16072', 'personal', 'fully_employed', 131.0), ('16072', 'personal', 'part-time', 280.0), ('16073', 'personal', 'total_personnel', 979.0), ('16073', 'personal', 'nursing_and_care', 702.0), ('16073', 'personal', 'social_care', 63.0), ('16073', 'personal', 'other_care', 56.0), ('16073', 'personal', 'fully_employed', 199.0), ('16073', 'personal', 'part-time', 625.0), ('16074', 'personal', 'total_personnel', 477.0), ('16074', 'personal', 'nursing_and_care', 332.0), ('16074', 'personal', 'social_care', 19.0), ('16074', 'personal', 'other_care', 28.0), ('16074', 'personal', 'fully_employed', 99.0), ('16074', 'personal', 'part-time', 330.0), ('16075', 'personal', 'total_personnel', 581.0), ('16075', 'personal', 'nursing_and_care', 409.0), ('16075', 'personal', 'social_care', 39.0), ('16075', 'personal', 'other_care', 29.0), ('16075', 'personal', 'fully_employed', 58.0), ('16075', 'personal', 'part-time', 469.0), ('16076', 'personal', 'total_personnel', 877.0), ('16076', 'personal', 'nursing_and_care', 617.0), ('16076', 'personal', 'social_care', 43.0), ('16076', 'personal', 'other_care', 47.0), ('16076', 'personal', 'fully_employed', 316.0), ('16076', 'personal', 'part-time', 494.0), ('16077', 'personal', 'total_personnel', 880.0), ('16077', 'personal', 'nursing_and_care', 652.0), ('16077', 'personal', 'social_care', 25.0), ('16077', 'personal', 'other_care', 51.0), ('16077', 'personal', 'fully_employed', 146.0), ('16077', 'personal', 'part-time', 646.0)]\n"
     ]
    }
   ],
   "source": [
    "personal_mapping = {\n",
    "    'Vollzeitbeschäftigt': 'fully_employed',\n",
    "    'Teilzeitbeschäftigt': 'part-time',\n",
    "    'Pflege und Betreuung': 'nursing_and_care',\n",
    "    'soziale Betreuung': 'social_care',\n",
    "    'zusätzliche Betreuung (§ 87b SGB XI)': 'other_care',\n",
    "    'Personal insgesamt': 'total_personnel'\n",
    "}\n",
    "\n",
    "\n",
    "filename = PATHS.format(file_mapping['personal'])\n",
    "\n",
    "l = list(get_values(filename, personal_mapping, prefix='personal', skiprows=10))\n",
    "print(l)\n",
    "data.extend(l)"
   ]
  },
  {
   "cell_type": "code",
   "execution_count": 8,
   "metadata": {
    "collapsed": false
   },
   "outputs": [
    {
     "name": "stdout",
     "output_type": "stream",
     "text": [
      "[('16051', 'costs', 'costs_nursing_class_1', 37.05), ('16051', 'costs', 'costs_nursing_class_2', 50.74), ('16051', 'costs', 'costs_nursing_class_3', 67.47), ('16051', 'costs', 'food', 20.44), ('16052', 'costs', 'costs_nursing_class_1', 34.27), ('16052', 'costs', 'costs_nursing_class_2', 46.87), ('16052', 'costs', 'costs_nursing_class_3', 61.48), ('16052', 'costs', 'food', 18.91), ('16053', 'costs', 'costs_nursing_class_1', 40.23), ('16053', 'costs', 'costs_nursing_class_2', 53.54), ('16053', 'costs', 'costs_nursing_class_3', 70.04), ('16053', 'costs', 'food', 20.51), ('16054', 'costs', 'costs_nursing_class_1', 40.54), ('16054', 'costs', 'costs_nursing_class_2', 52.63), ('16054', 'costs', 'costs_nursing_class_3', 67.7), ('16054', 'costs', 'food', 19.69), ('16055', 'costs', 'costs_nursing_class_1', 35.26), ('16055', 'costs', 'costs_nursing_class_2', 49.05), ('16055', 'costs', 'costs_nursing_class_3', 65.61), ('16055', 'costs', 'food', 20.32), ('16056', 'costs', 'costs_nursing_class_1', 35.3), ('16056', 'costs', 'costs_nursing_class_2', 48.48), ('16056', 'costs', 'costs_nursing_class_3', 64.63), ('16056', 'costs', 'food', 20.53), ('16061', 'costs', 'costs_nursing_class_1', 38.91), ('16061', 'costs', 'costs_nursing_class_2', 52.93), ('16061', 'costs', 'costs_nursing_class_3', 70.6), ('16061', 'costs', 'food', 20.62), ('16062', 'costs', 'costs_nursing_class_1', 38.61), ('16062', 'costs', 'costs_nursing_class_2', 51.66), ('16062', 'costs', 'costs_nursing_class_3', 67.09), ('16062', 'costs', 'food', 19.68), ('16063', 'costs', 'costs_nursing_class_1', 42.06), ('16063', 'costs', 'costs_nursing_class_2', 55.37), ('16063', 'costs', 'costs_nursing_class_3', 71.79), ('16063', 'costs', 'food', 19.53), ('16064', 'costs', 'costs_nursing_class_1', 32.16), ('16064', 'costs', 'costs_nursing_class_2', 44.97), ('16064', 'costs', 'costs_nursing_class_3', 59.48), ('16064', 'costs', 'food', 18.87), ('16065', 'costs', 'costs_nursing_class_1', 34.35), ('16065', 'costs', 'costs_nursing_class_2', 46.35), ('16065', 'costs', 'costs_nursing_class_3', 61.38), ('16065', 'costs', 'food', 18.84), ('16066', 'costs', 'costs_nursing_class_1', 39.96), ('16066', 'costs', 'costs_nursing_class_2', 53.19), ('16066', 'costs', 'costs_nursing_class_3', 69.66), ('16066', 'costs', 'food', 20.09), ('16067', 'costs', 'costs_nursing_class_1', 32.37), ('16067', 'costs', 'costs_nursing_class_2', 44.31), ('16067', 'costs', 'costs_nursing_class_3', 58.56), ('16067', 'costs', 'food', 18.53), ('16068', 'costs', 'costs_nursing_class_1', 41.75), ('16068', 'costs', 'costs_nursing_class_2', 55.12), ('16068', 'costs', 'costs_nursing_class_3', 71.45), ('16068', 'costs', 'food', 19.71), ('16069', 'costs', 'costs_nursing_class_1', 38.48), ('16069', 'costs', 'costs_nursing_class_2', 53.01), ('16069', 'costs', 'costs_nursing_class_3', 71.08), ('16069', 'costs', 'food', 20.43), ('16070', 'costs', 'costs_nursing_class_1', 33.89), ('16070', 'costs', 'costs_nursing_class_2', 46), ('16070', 'costs', 'costs_nursing_class_3', 59.92), ('16070', 'costs', 'food', 19.23), ('16071', 'costs', 'costs_nursing_class_1', 34.15), ('16071', 'costs', 'costs_nursing_class_2', 46.84), ('16071', 'costs', 'costs_nursing_class_3', 62.44), ('16071', 'costs', 'food', 19.09), ('16072', 'costs', 'costs_nursing_class_1', 41.95), ('16072', 'costs', 'costs_nursing_class_2', 54.92), ('16072', 'costs', 'costs_nursing_class_3', 70.88), ('16072', 'costs', 'food', 20.02), ('16073', 'costs', 'costs_nursing_class_1', 32.37), ('16073', 'costs', 'costs_nursing_class_2', 45.1), ('16073', 'costs', 'costs_nursing_class_3', 59.44), ('16073', 'costs', 'food', 19.49), ('16074', 'costs', 'costs_nursing_class_1', 33.45), ('16074', 'costs', 'costs_nursing_class_2', 45.98), ('16074', 'costs', 'costs_nursing_class_3', 61.34), ('16074', 'costs', 'food', 19.07), ('16075', 'costs', 'costs_nursing_class_1', 35.05), ('16075', 'costs', 'costs_nursing_class_2', 48.6), ('16075', 'costs', 'costs_nursing_class_3', 64.88), ('16075', 'costs', 'food', 20.09), ('16076', 'costs', 'costs_nursing_class_1', 33.13), ('16076', 'costs', 'costs_nursing_class_2', 45.42), ('16076', 'costs', 'costs_nursing_class_3', 60.58), ('16076', 'costs', 'food', 18.67), ('16077', 'costs', 'costs_nursing_class_1', 43.14), ('16077', 'costs', 'costs_nursing_class_2', 55.79), ('16077', 'costs', 'costs_nursing_class_3', 70.51), ('16077', 'costs', 'food', 19.85)]\n"
     ]
    }
   ],
   "source": [
    "cost_mapping = {\n",
    "    'Pflegeklasse 1': 'costs_nursing_class_1',\n",
    "    'Pflegeklasse 2': 'costs_nursing_class_2',\n",
    "    'Pflegeklasse 3': 'costs_nursing_class_3',\n",
    "    'Verpflegung': 'food',\n",
    "}\n",
    "\n",
    "filename = PATHS.format(file_mapping['costs'])\n",
    "\n",
    "l = list(get_values(filename, cost_mapping, prefix='costs', skiprows=0))\n",
    "print(l)\n",
    "data.extend(l)"
   ]
  },
  {
   "cell_type": "code",
   "execution_count": 9,
   "metadata": {
    "collapsed": false
   },
   "outputs": [
    {
     "data": {
      "text/html": [
       "<div>\n",
       "<table border=\"1\" class=\"dataframe\">\n",
       "  <thead>\n",
       "    <tr style=\"text-align: right;\">\n",
       "      <th></th>\n",
       "      <th>ags</th>\n",
       "      <th>type</th>\n",
       "      <th>key</th>\n",
       "      <th>value</th>\n",
       "      <th>state</th>\n",
       "    </tr>\n",
       "  </thead>\n",
       "  <tbody>\n",
       "    <tr>\n",
       "      <th>0</th>\n",
       "      <td>16051</td>\n",
       "      <td>beds</td>\n",
       "      <td>1-bed</td>\n",
       "      <td>1540.0</td>\n",
       "      <td>Thüringen</td>\n",
       "    </tr>\n",
       "    <tr>\n",
       "      <th>1</th>\n",
       "      <td>16051</td>\n",
       "      <td>beds</td>\n",
       "      <td>2-bed</td>\n",
       "      <td>965.0</td>\n",
       "      <td>Thüringen</td>\n",
       "    </tr>\n",
       "    <tr>\n",
       "      <th>2</th>\n",
       "      <td>16051</td>\n",
       "      <td>beds</td>\n",
       "      <td>3-bed</td>\n",
       "      <td>0.0</td>\n",
       "      <td>Thüringen</td>\n",
       "    </tr>\n",
       "    <tr>\n",
       "      <th>3</th>\n",
       "      <td>16051</td>\n",
       "      <td>beds</td>\n",
       "      <td>4-bed</td>\n",
       "      <td>0.0</td>\n",
       "      <td>Thüringen</td>\n",
       "    </tr>\n",
       "    <tr>\n",
       "      <th>4</th>\n",
       "      <td>16052</td>\n",
       "      <td>beds</td>\n",
       "      <td>1-bed</td>\n",
       "      <td>1043.0</td>\n",
       "      <td>Thüringen</td>\n",
       "    </tr>\n",
       "  </tbody>\n",
       "</table>\n",
       "</div>"
      ],
      "text/plain": [
       "     ags  type    key   value      state\n",
       "0  16051  beds  1-bed  1540.0  Thüringen\n",
       "1  16051  beds  2-bed   965.0  Thüringen\n",
       "2  16051  beds  3-bed     0.0  Thüringen\n",
       "3  16051  beds  4-bed     0.0  Thüringen\n",
       "4  16052  beds  1-bed  1043.0  Thüringen"
      ]
     },
     "execution_count": 9,
     "metadata": {},
     "output_type": "execute_result"
    }
   ],
   "source": [
    "df = pd.DataFrame(data)\n",
    "df = df.rename(columns={\n",
    "    0: 'ags',\n",
    "    1: 'type',\n",
    "    2: 'key',\n",
    "    3: 'value'\n",
    "})\n",
    "df['state'] = 'Thüringen'\n",
    "df.to_csv('csvs/thueringen.csv', index=False)\n",
    "df.head()"
   ]
  },
  {
   "cell_type": "code",
   "execution_count": 10,
   "metadata": {
    "collapsed": false
   },
   "outputs": [
    {
     "data": {
      "text/html": [
       "<div>\n",
       "<table border=\"1\" class=\"dataframe\">\n",
       "  <thead>\n",
       "    <tr style=\"text-align: right;\">\n",
       "      <th></th>\n",
       "      <th>ags</th>\n",
       "      <th>type</th>\n",
       "      <th>key</th>\n",
       "      <th>value</th>\n",
       "      <th>state</th>\n",
       "    </tr>\n",
       "  </thead>\n",
       "  <tbody>\n",
       "    <tr>\n",
       "      <th>0</th>\n",
       "      <td>16051</td>\n",
       "      <td>beds</td>\n",
       "      <td>1-bed</td>\n",
       "      <td>1540.00</td>\n",
       "      <td>Thüringen</td>\n",
       "    </tr>\n",
       "    <tr>\n",
       "      <th>1</th>\n",
       "      <td>16051</td>\n",
       "      <td>beds</td>\n",
       "      <td>2-bed</td>\n",
       "      <td>965.00</td>\n",
       "      <td>Thüringen</td>\n",
       "    </tr>\n",
       "    <tr>\n",
       "      <th>2</th>\n",
       "      <td>16051</td>\n",
       "      <td>beds</td>\n",
       "      <td>3-bed</td>\n",
       "      <td>0.00</td>\n",
       "      <td>Thüringen</td>\n",
       "    </tr>\n",
       "    <tr>\n",
       "      <th>3</th>\n",
       "      <td>16051</td>\n",
       "      <td>beds</td>\n",
       "      <td>4-bed</td>\n",
       "      <td>0.00</td>\n",
       "      <td>Thüringen</td>\n",
       "    </tr>\n",
       "    <tr>\n",
       "      <th>92</th>\n",
       "      <td>16051</td>\n",
       "      <td>recipients</td>\n",
       "      <td>recipients_nursing_class_1</td>\n",
       "      <td>1019.00</td>\n",
       "      <td>Thüringen</td>\n",
       "    </tr>\n",
       "    <tr>\n",
       "      <th>93</th>\n",
       "      <td>16051</td>\n",
       "      <td>recipients</td>\n",
       "      <td>recipients_nursing_class_2</td>\n",
       "      <td>826.00</td>\n",
       "      <td>Thüringen</td>\n",
       "    </tr>\n",
       "    <tr>\n",
       "      <th>94</th>\n",
       "      <td>16051</td>\n",
       "      <td>recipients</td>\n",
       "      <td>recipients_nursing_class_3</td>\n",
       "      <td>456.00</td>\n",
       "      <td>Thüringen</td>\n",
       "    </tr>\n",
       "    <tr>\n",
       "      <th>95</th>\n",
       "      <td>16051</td>\n",
       "      <td>recipients</td>\n",
       "      <td>recipients_nursing_class_unknown</td>\n",
       "      <td>20.00</td>\n",
       "      <td>Thüringen</td>\n",
       "    </tr>\n",
       "    <tr>\n",
       "      <th>184</th>\n",
       "      <td>16051</td>\n",
       "      <td>personal</td>\n",
       "      <td>total_personnel</td>\n",
       "      <td>1579.00</td>\n",
       "      <td>Thüringen</td>\n",
       "    </tr>\n",
       "    <tr>\n",
       "      <th>185</th>\n",
       "      <td>16051</td>\n",
       "      <td>personal</td>\n",
       "      <td>nursing_and_care</td>\n",
       "      <td>1142.00</td>\n",
       "      <td>Thüringen</td>\n",
       "    </tr>\n",
       "    <tr>\n",
       "      <th>186</th>\n",
       "      <td>16051</td>\n",
       "      <td>personal</td>\n",
       "      <td>social_care</td>\n",
       "      <td>91.00</td>\n",
       "      <td>Thüringen</td>\n",
       "    </tr>\n",
       "    <tr>\n",
       "      <th>187</th>\n",
       "      <td>16051</td>\n",
       "      <td>personal</td>\n",
       "      <td>other_care</td>\n",
       "      <td>80.00</td>\n",
       "      <td>Thüringen</td>\n",
       "    </tr>\n",
       "    <tr>\n",
       "      <th>188</th>\n",
       "      <td>16051</td>\n",
       "      <td>personal</td>\n",
       "      <td>fully_employed</td>\n",
       "      <td>486.00</td>\n",
       "      <td>Thüringen</td>\n",
       "    </tr>\n",
       "    <tr>\n",
       "      <th>189</th>\n",
       "      <td>16051</td>\n",
       "      <td>personal</td>\n",
       "      <td>part-time</td>\n",
       "      <td>903.00</td>\n",
       "      <td>Thüringen</td>\n",
       "    </tr>\n",
       "    <tr>\n",
       "      <th>322</th>\n",
       "      <td>16051</td>\n",
       "      <td>costs</td>\n",
       "      <td>costs_nursing_class_1</td>\n",
       "      <td>37.05</td>\n",
       "      <td>Thüringen</td>\n",
       "    </tr>\n",
       "    <tr>\n",
       "      <th>323</th>\n",
       "      <td>16051</td>\n",
       "      <td>costs</td>\n",
       "      <td>costs_nursing_class_2</td>\n",
       "      <td>50.74</td>\n",
       "      <td>Thüringen</td>\n",
       "    </tr>\n",
       "    <tr>\n",
       "      <th>324</th>\n",
       "      <td>16051</td>\n",
       "      <td>costs</td>\n",
       "      <td>costs_nursing_class_3</td>\n",
       "      <td>67.47</td>\n",
       "      <td>Thüringen</td>\n",
       "    </tr>\n",
       "    <tr>\n",
       "      <th>325</th>\n",
       "      <td>16051</td>\n",
       "      <td>costs</td>\n",
       "      <td>food</td>\n",
       "      <td>20.44</td>\n",
       "      <td>Thüringen</td>\n",
       "    </tr>\n",
       "  </tbody>\n",
       "</table>\n",
       "</div>"
      ],
      "text/plain": [
       "       ags        type                               key    value      state\n",
       "0    16051        beds                             1-bed  1540.00  Thüringen\n",
       "1    16051        beds                             2-bed   965.00  Thüringen\n",
       "2    16051        beds                             3-bed     0.00  Thüringen\n",
       "3    16051        beds                             4-bed     0.00  Thüringen\n",
       "92   16051  recipients        recipients_nursing_class_1  1019.00  Thüringen\n",
       "93   16051  recipients        recipients_nursing_class_2   826.00  Thüringen\n",
       "94   16051  recipients        recipients_nursing_class_3   456.00  Thüringen\n",
       "95   16051  recipients  recipients_nursing_class_unknown    20.00  Thüringen\n",
       "184  16051    personal                   total_personnel  1579.00  Thüringen\n",
       "185  16051    personal                  nursing_and_care  1142.00  Thüringen\n",
       "186  16051    personal                       social_care    91.00  Thüringen\n",
       "187  16051    personal                        other_care    80.00  Thüringen\n",
       "188  16051    personal                    fully_employed   486.00  Thüringen\n",
       "189  16051    personal                         part-time   903.00  Thüringen\n",
       "322  16051       costs             costs_nursing_class_1    37.05  Thüringen\n",
       "323  16051       costs             costs_nursing_class_2    50.74  Thüringen\n",
       "324  16051       costs             costs_nursing_class_3    67.47  Thüringen\n",
       "325  16051       costs                              food    20.44  Thüringen"
      ]
     },
     "execution_count": 10,
     "metadata": {},
     "output_type": "execute_result"
    }
   ],
   "source": [
    "df[df['ags'] == '16051']"
   ]
  }
 ],
 "metadata": {
  "kernelspec": {
   "display_name": "Python 3",
   "language": "python",
   "name": "python3"
  },
  "language_info": {
   "codemirror_mode": {
    "name": "ipython",
    "version": 3
   },
   "file_extension": ".py",
   "mimetype": "text/x-python",
   "name": "python",
   "nbconvert_exporter": "python",
   "pygments_lexer": "ipython3",
   "version": "3.5.0"
  }
 },
 "nbformat": 4,
 "nbformat_minor": 0
}
