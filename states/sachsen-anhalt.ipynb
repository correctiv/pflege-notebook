{
 "cells": [
  {
   "cell_type": "code",
   "execution_count": 1,
   "metadata": {
    "collapsed": true
   },
   "outputs": [],
   "source": [
    "import re\n",
    "\n",
    "import pandas as pd"
   ]
  },
  {
   "cell_type": "code",
   "execution_count": 2,
   "metadata": {
    "collapsed": false
   },
   "outputs": [],
   "source": [
    "AGS_RE = re.compile('^(\\d{5}).*', re.M)\n",
    "data = []\n",
    "PATH = 'raw/Pflegestatistik_2013_Sachsen-Anhalt.xls'"
   ]
  },
  {
   "cell_type": "code",
   "execution_count": 3,
   "metadata": {
    "collapsed": true
   },
   "outputs": [],
   "source": [
    "def get_values(df, mapping, prefix='personal', indicator='key', skip_on=None):\n",
    "    ags = None\n",
    "    for i, row in df.iterrows():\n",
    "        ind = str(row[indicator])\n",
    "        if not pd.isnull(ind) and AGS_RE.match(ind) is not None:\n",
    "            ags = ind.replace(' ', '')\n",
    "        if ags is None:\n",
    "            continue\n",
    "        if pd.isnull(row['key']):\n",
    "            continue\n",
    "        if skip_on is not None and row['key'] in skip_on:\n",
    "            ags = None\n",
    "            continue\n",
    "        for k, v in mapping.items():\n",
    "            if k in row['key']:\n",
    "                if isinstance(row['value'], str):\n",
    "                    val = row['value'].replace('-', '0').strip()\n",
    "                    if val == '.':\n",
    "                        val = None\n",
    "                    else:\n",
    "                        val = float(val)\n",
    "                else:\n",
    "                    val = row['value']\n",
    "                yield ags, prefix, v, val\n"
   ]
  },
  {
   "cell_type": "code",
   "execution_count": 4,
   "metadata": {
    "collapsed": false
   },
   "outputs": [
    {
     "data": {
      "text/html": [
       "<div>\n",
       "<table border=\"1\" class=\"dataframe\">\n",
       "  <thead>\n",
       "    <tr style=\"text-align: right;\">\n",
       "      <th></th>\n",
       "      <th>key</th>\n",
       "      <th>value</th>\n",
       "      <th>Unnamed: 2</th>\n",
       "      <th>Unnamed: 3</th>\n",
       "      <th>Unnamed: 4</th>\n",
       "      <th>Unnamed: 5</th>\n",
       "      <th>Unnamed: 6</th>\n",
       "    </tr>\n",
       "  </thead>\n",
       "  <tbody>\n",
       "    <tr>\n",
       "      <th>0</th>\n",
       "      <td>Vergütung für vollstationäre</td>\n",
       "      <td>NaN</td>\n",
       "      <td>NaN</td>\n",
       "      <td>NaN</td>\n",
       "      <td>NaN</td>\n",
       "      <td>NaN</td>\n",
       "      <td>NaN</td>\n",
       "    </tr>\n",
       "    <tr>\n",
       "      <th>1</th>\n",
       "      <td>Dauerpflege</td>\n",
       "      <td>NaN</td>\n",
       "      <td>NaN</td>\n",
       "      <td>NaN</td>\n",
       "      <td>NaN</td>\n",
       "      <td>NaN</td>\n",
       "      <td>NaN</td>\n",
       "    </tr>\n",
       "    <tr>\n",
       "      <th>2</th>\n",
       "      <td>Pflegesatz</td>\n",
       "      <td>NaN</td>\n",
       "      <td>NaN</td>\n",
       "      <td>NaN</td>\n",
       "      <td>NaN</td>\n",
       "      <td>NaN</td>\n",
       "      <td>NaN</td>\n",
       "    </tr>\n",
       "    <tr>\n",
       "      <th>3</th>\n",
       "      <td>Pflegeklasse 1</td>\n",
       "      <td>38.97</td>\n",
       "      <td>NaN</td>\n",
       "      <td>NaN</td>\n",
       "      <td>NaN</td>\n",
       "      <td>NaN</td>\n",
       "      <td>NaN</td>\n",
       "    </tr>\n",
       "    <tr>\n",
       "      <th>4</th>\n",
       "      <td>Pflegeklasse 2</td>\n",
       "      <td>51.24</td>\n",
       "      <td>NaN</td>\n",
       "      <td>NaN</td>\n",
       "      <td>NaN</td>\n",
       "      <td>NaN</td>\n",
       "      <td>NaN</td>\n",
       "    </tr>\n",
       "  </tbody>\n",
       "</table>\n",
       "</div>"
      ],
      "text/plain": [
       "                              key  value  Unnamed: 2  Unnamed: 3  Unnamed: 4  \\\n",
       "0  Vergütung für vollstationäre      NaN         NaN         NaN         NaN   \n",
       "1   Dauerpflege                      NaN         NaN         NaN         NaN   \n",
       "2   Pflegesatz                       NaN         NaN         NaN         NaN   \n",
       "3                 Pflegeklasse 1   38.97         NaN         NaN         NaN   \n",
       "4                 Pflegeklasse 2   51.24         NaN         NaN         NaN   \n",
       "\n",
       "   Unnamed: 5  Unnamed: 6  \n",
       "0         NaN         NaN  \n",
       "1         NaN         NaN  \n",
       "2         NaN         NaN  \n",
       "3         NaN         NaN  \n",
       "4         NaN         NaN  "
      ]
     },
     "execution_count": 4,
     "metadata": {},
     "output_type": "execute_result"
    }
   ],
   "source": [
    "df = pd.read_excel(PATH, sheetname='Vergütung', skiprows=14)\n",
    "\n",
    "df = df.rename(columns={\n",
    "    'Unnamed: 0': 'key',\n",
    "    'Insgesamt                               ': 'value'\n",
    "    \n",
    "})\n",
    "\n",
    "cost_mapping = {\n",
    "    'Pflegeklasse 1': 'costs_nursing_class_1',\n",
    "    'Pflegeklasse 2': 'costs_nursing_class_2',\n",
    "    'Pflegeklasse 3': 'costs_nursing_class_3',\n",
    "    'Verpflegung': 'food',\n",
    "}\n",
    "\n",
    "\n",
    "data.extend(list(get_values(df, cost_mapping, prefix='costs', skip_on=['Vergütung für Kurzzeitpflege  '])))\n",
    "df.head()"
   ]
  },
  {
   "cell_type": "code",
   "execution_count": 5,
   "metadata": {
    "collapsed": false
   },
   "outputs": [
    {
     "data": {
      "text/html": [
       "<div>\n",
       "<table border=\"1\" class=\"dataframe\">\n",
       "  <thead>\n",
       "    <tr style=\"text-align: right;\">\n",
       "      <th></th>\n",
       "      <th>key</th>\n",
       "      <th>value</th>\n",
       "    </tr>\n",
       "  </thead>\n",
       "  <tbody>\n",
       "    <tr>\n",
       "      <th>0</th>\n",
       "      <td>Anzahl        ...</td>\n",
       "      <td>NaN</td>\n",
       "    </tr>\n",
       "    <tr>\n",
       "      <th>1</th>\n",
       "      <td>Verfügbare Plätze insgesamt</td>\n",
       "      <td>31120</td>\n",
       "    </tr>\n",
       "    <tr>\n",
       "      <th>2</th>\n",
       "      <td>NaN</td>\n",
       "      <td>NaN</td>\n",
       "    </tr>\n",
       "    <tr>\n",
       "      <th>3</th>\n",
       "      <td>vollstationäre Pflege</td>\n",
       "      <td>NaN</td>\n",
       "    </tr>\n",
       "    <tr>\n",
       "      <th>4</th>\n",
       "      <td>zusammen</td>\n",
       "      <td>29935</td>\n",
       "    </tr>\n",
       "  </tbody>\n",
       "</table>\n",
       "</div>"
      ],
      "text/plain": [
       "                                                 key  value\n",
       "0                                  Anzahl        ...    NaN\n",
       "1                       Verfügbare Plätze insgesamt   31120\n",
       "2                                                NaN    NaN\n",
       "3                     vollstationäre Pflege             NaN\n",
       "4                                          zusammen   29935"
      ]
     },
     "execution_count": 5,
     "metadata": {},
     "output_type": "execute_result"
    }
   ],
   "source": [
    "df = pd.read_excel(PATH, sheetname='verfügbare Plätze Betten', skiprows=13)\n",
    "\n",
    "df = df.rename(columns={\n",
    "    'Unnamed: 0': 'key',\n",
    "    'Insgesamt                               ': 'value'\n",
    "    \n",
    "})\n",
    "\n",
    "bed_mapping = {\n",
    "  '1-Bett-Zimmern': '1-bed',\n",
    "  '2-Bett-Zimmern': '2-bed',\n",
    "  '3-Bett-Zimmern': '3-bed',\n",
    "  '4 und mehr-Bett-Zimmern': '4-bed'\n",
    "}\n",
    "\n",
    "data.extend(list(get_values(df, bed_mapping, prefix='beds')))\n",
    "df.head()"
   ]
  },
  {
   "cell_type": "code",
   "execution_count": 6,
   "metadata": {
    "collapsed": false
   },
   "outputs": [
    {
     "data": {
      "text/html": [
       "<div>\n",
       "<table border=\"1\" class=\"dataframe\">\n",
       "  <thead>\n",
       "    <tr style=\"text-align: right;\">\n",
       "      <th></th>\n",
       "      <th>key</th>\n",
       "      <th>value</th>\n",
       "    </tr>\n",
       "  </thead>\n",
       "  <tbody>\n",
       "    <tr>\n",
       "      <th>0</th>\n",
       "      <td>Personal insgesamt</td>\n",
       "      <td>20071</td>\n",
       "    </tr>\n",
       "    <tr>\n",
       "      <th>1</th>\n",
       "      <td>NaN</td>\n",
       "      <td>NaN</td>\n",
       "    </tr>\n",
       "    <tr>\n",
       "      <th>2</th>\n",
       "      <td>darunter</td>\n",
       "      <td>NaN</td>\n",
       "    </tr>\n",
       "    <tr>\n",
       "      <th>3</th>\n",
       "      <td>Auszubildende/-r, (Um-)Schüler/-in</td>\n",
       "      <td>1079</td>\n",
       "    </tr>\n",
       "    <tr>\n",
       "      <th>4</th>\n",
       "      <td>NaN</td>\n",
       "      <td>NaN</td>\n",
       "    </tr>\n",
       "  </tbody>\n",
       "</table>\n",
       "</div>"
      ],
      "text/plain": [
       "                                  key  value\n",
       "0                  Personal insgesamt  20071\n",
       "1                                 NaN    NaN\n",
       "2                            darunter    NaN\n",
       "3  Auszubildende/-r, (Um-)Schüler/-in   1079\n",
       "4                                 NaN    NaN"
      ]
     },
     "execution_count": 6,
     "metadata": {},
     "output_type": "execute_result"
    }
   ],
   "source": [
    "df = pd.read_excel(PATH, sheetname='Personal', skiprows=10)\n",
    "\n",
    "df = df.rename(columns={\n",
    "    'Unnamed: 0': 'key',\n",
    "    'Insgesamt': 'value'\n",
    "    \n",
    "})\n",
    "\n",
    "personal_mapping = {\n",
    "    'Vollzeitbeschäftigt': 'fully_employed',\n",
    "    'Teilzeitbeschäftigt': 'part-time',\n",
    "    'Pflege und Betreuung': 'nursing_and_care',\n",
    "    'soziale Betreuung': 'social_care',\n",
    "    'zusätzliche Betreuung (§ 87b SGB XI)': 'other_care',\n",
    "    'Personal insgesamt': 'total_personnel'\n",
    "}\n",
    "\n",
    "\n",
    "data.extend(list(get_values(df, personal_mapping, prefix='personal')))\n",
    "df.head()"
   ]
  },
  {
   "cell_type": "code",
   "execution_count": 7,
   "metadata": {
    "collapsed": false
   },
   "outputs": [
    {
     "data": {
      "text/html": [
       "<div>\n",
       "<table border=\"1\" class=\"dataframe\">\n",
       "  <thead>\n",
       "    <tr style=\"text-align: right;\">\n",
       "      <th></th>\n",
       "      <th>key</th>\n",
       "      <th>Insgesamt</th>\n",
       "      <th>value</th>\n",
       "    </tr>\n",
       "  </thead>\n",
       "  <tbody>\n",
       "    <tr>\n",
       "      <th>0</th>\n",
       "      <td>Insgesamt</td>\n",
       "      <td>29790</td>\n",
       "      <td>28283</td>\n",
       "    </tr>\n",
       "    <tr>\n",
       "      <th>1</th>\n",
       "      <td>Pflegestufe I</td>\n",
       "      <td>10308</td>\n",
       "      <td>9532</td>\n",
       "    </tr>\n",
       "    <tr>\n",
       "      <th>2</th>\n",
       "      <td>Pflegestufe II</td>\n",
       "      <td>13590</td>\n",
       "      <td>13012</td>\n",
       "    </tr>\n",
       "    <tr>\n",
       "      <th>3</th>\n",
       "      <td>Pflegestufe III</td>\n",
       "      <td>5540</td>\n",
       "      <td>5432</td>\n",
       "    </tr>\n",
       "    <tr>\n",
       "      <th>4</th>\n",
       "      <td>Bisher noch keiner</td>\n",
       "      <td>NaN</td>\n",
       "      <td>NaN</td>\n",
       "    </tr>\n",
       "  </tbody>\n",
       "</table>\n",
       "</div>"
      ],
      "text/plain": [
       "                         key Insgesamt  value\n",
       "0                  Insgesamt     29790  28283\n",
       "1  Pflegestufe I                 10308   9532\n",
       "2  Pflegestufe II                13590  13012\n",
       "3  Pflegestufe III                5540   5432\n",
       "4  Bisher noch keiner              NaN    NaN"
      ]
     },
     "execution_count": 7,
     "metadata": {},
     "output_type": "execute_result"
    }
   ],
   "source": [
    "df = pd.read_excel(PATH, sheetname='Pflegebedürftige', skiprows=10)\n",
    "\n",
    "df = df.rename(columns={\n",
    "    'Unnamed: 0': 'key',\n",
    "    'Unnamed: 2': 'value'\n",
    "    \n",
    "})\n",
    "\n",
    "recipient_mapping = {\n",
    "    'Pflegestufe I ': 'recipients_nursing_class_1',\n",
    "    'Pflegestufe II ': 'recipients_nursing_class_2',\n",
    "    'Pflegestufe III ': 'recipients_nursing_class_3',\n",
    "    'Pflegestufe zugeordnet': 'recipients_nursing_class_unknown',\n",
    "}\n",
    "\n",
    "\n",
    "data.extend(list(get_values(df, recipient_mapping,  prefix='recipients')))\n",
    "df.head()"
   ]
  },
  {
   "cell_type": "code",
   "execution_count": 8,
   "metadata": {
    "collapsed": false
   },
   "outputs": [
    {
     "data": {
      "text/html": [
       "<div>\n",
       "<table border=\"1\" class=\"dataframe\">\n",
       "  <thead>\n",
       "    <tr style=\"text-align: right;\">\n",
       "      <th></th>\n",
       "      <th>ags</th>\n",
       "      <th>type</th>\n",
       "      <th>key</th>\n",
       "      <th>value</th>\n",
       "      <th>state</th>\n",
       "    </tr>\n",
       "  </thead>\n",
       "  <tbody>\n",
       "    <tr>\n",
       "      <th>0</th>\n",
       "      <td>15001</td>\n",
       "      <td>costs</td>\n",
       "      <td>costs_nursing_class_1</td>\n",
       "      <td>40.63</td>\n",
       "      <td>Sachsen-Anhalt</td>\n",
       "    </tr>\n",
       "    <tr>\n",
       "      <th>1</th>\n",
       "      <td>15001</td>\n",
       "      <td>costs</td>\n",
       "      <td>costs_nursing_class_2</td>\n",
       "      <td>52.39</td>\n",
       "      <td>Sachsen-Anhalt</td>\n",
       "    </tr>\n",
       "    <tr>\n",
       "      <th>2</th>\n",
       "      <td>15001</td>\n",
       "      <td>costs</td>\n",
       "      <td>costs_nursing_class_3</td>\n",
       "      <td>63.32</td>\n",
       "      <td>Sachsen-Anhalt</td>\n",
       "    </tr>\n",
       "    <tr>\n",
       "      <th>3</th>\n",
       "      <td>15001</td>\n",
       "      <td>costs</td>\n",
       "      <td>food</td>\n",
       "      <td>16.25</td>\n",
       "      <td>Sachsen-Anhalt</td>\n",
       "    </tr>\n",
       "    <tr>\n",
       "      <th>4</th>\n",
       "      <td>15002</td>\n",
       "      <td>costs</td>\n",
       "      <td>costs_nursing_class_1</td>\n",
       "      <td>41.05</td>\n",
       "      <td>Sachsen-Anhalt</td>\n",
       "    </tr>\n",
       "  </tbody>\n",
       "</table>\n",
       "</div>"
      ],
      "text/plain": [
       "     ags   type                    key  value           state\n",
       "0  15001  costs  costs_nursing_class_1  40.63  Sachsen-Anhalt\n",
       "1  15001  costs  costs_nursing_class_2  52.39  Sachsen-Anhalt\n",
       "2  15001  costs  costs_nursing_class_3  63.32  Sachsen-Anhalt\n",
       "3  15001  costs                   food  16.25  Sachsen-Anhalt\n",
       "4  15002  costs  costs_nursing_class_1  41.05  Sachsen-Anhalt"
      ]
     },
     "execution_count": 8,
     "metadata": {},
     "output_type": "execute_result"
    }
   ],
   "source": [
    "df = pd.DataFrame(data)\n",
    "df = df.rename(columns={\n",
    "    0: 'ags',\n",
    "    1: 'type',\n",
    "    2: 'key',\n",
    "    3: 'value'\n",
    "})\n",
    "df['state'] = 'Sachsen-Anhalt'\n",
    "df.to_csv('sachsen-anhalt.csv', index=False)\n",
    "df.head()"
   ]
  }
 ],
 "metadata": {
  "kernelspec": {
   "display_name": "Python 3",
   "language": "python",
   "name": "python3"
  },
  "language_info": {
   "codemirror_mode": {
    "name": "ipython",
    "version": 3
   },
   "file_extension": ".py",
   "mimetype": "text/x-python",
   "name": "python",
   "nbconvert_exporter": "python",
   "pygments_lexer": "ipython3",
   "version": "3.5.0"
  }
 },
 "nbformat": 4,
 "nbformat_minor": 0
}
