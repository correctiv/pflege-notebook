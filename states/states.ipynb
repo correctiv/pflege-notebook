{
 "cells": [
  {
   "cell_type": "code",
   "execution_count": 1,
   "metadata": {
    "collapsed": true
   },
   "outputs": [],
   "source": [
    "from glob import glob\n",
    "\n",
    "import pandas as pd\n",
    "import numpy as np\n",
    "\n",
    "import qgrid\n",
    "qgrid.nbinstall()"
   ]
  },
  {
   "cell_type": "code",
   "execution_count": 2,
   "metadata": {
    "collapsed": false
   },
   "outputs": [
    {
     "data": {
      "text/html": [
       "<div>\n",
       "<table border=\"1\" class=\"dataframe\">\n",
       "  <thead>\n",
       "    <tr style=\"text-align: right;\">\n",
       "      <th></th>\n",
       "      <th>ags</th>\n",
       "      <th>key</th>\n",
       "      <th>state</th>\n",
       "      <th>type</th>\n",
       "      <th>value</th>\n",
       "    </tr>\n",
       "  </thead>\n",
       "  <tbody>\n",
       "    <tr>\n",
       "      <th>0</th>\n",
       "      <td>08111</td>\n",
       "      <td>food</td>\n",
       "      <td>Baden-Württemberg</td>\n",
       "      <td>costs</td>\n",
       "      <td>24.31</td>\n",
       "    </tr>\n",
       "    <tr>\n",
       "      <th>1</th>\n",
       "      <td>08111</td>\n",
       "      <td>costs_nursing_class_3</td>\n",
       "      <td>Baden-Württemberg</td>\n",
       "      <td>costs</td>\n",
       "      <td>95.98</td>\n",
       "    </tr>\n",
       "    <tr>\n",
       "      <th>2</th>\n",
       "      <td>08111</td>\n",
       "      <td>costs_nursing_class_1</td>\n",
       "      <td>Baden-Württemberg</td>\n",
       "      <td>costs</td>\n",
       "      <td>58.54</td>\n",
       "    </tr>\n",
       "    <tr>\n",
       "      <th>3</th>\n",
       "      <td>08111</td>\n",
       "      <td>costs_nursing_class_2</td>\n",
       "      <td>Baden-Württemberg</td>\n",
       "      <td>costs</td>\n",
       "      <td>75.29</td>\n",
       "    </tr>\n",
       "    <tr>\n",
       "      <th>4</th>\n",
       "      <td>08115</td>\n",
       "      <td>food</td>\n",
       "      <td>Baden-Württemberg</td>\n",
       "      <td>costs</td>\n",
       "      <td>23.55</td>\n",
       "    </tr>\n",
       "  </tbody>\n",
       "</table>\n",
       "</div>"
      ],
      "text/plain": [
       "     ags                    key              state   type  value\n",
       "0  08111                   food  Baden-Württemberg  costs  24.31\n",
       "1  08111  costs_nursing_class_3  Baden-Württemberg  costs  95.98\n",
       "2  08111  costs_nursing_class_1  Baden-Württemberg  costs  58.54\n",
       "3  08111  costs_nursing_class_2  Baden-Württemberg  costs  75.29\n",
       "4  08115                   food  Baden-Württemberg  costs  23.55"
      ]
     },
     "execution_count": 2,
     "metadata": {},
     "output_type": "execute_result"
    }
   ],
   "source": [
    "def get_frames():\n",
    "    for filename in glob('csvs/*.csv'):\n",
    "        df = pd.read_csv(filename)\n",
    "        df['ags'] = df['ags'].apply(lambda x: None if pd.isnull(x) else str(int(x)).zfill(5))\n",
    "        df['value'] = pd.to_numeric(df['value'], errors='coerce')\n",
    "        df = df.drop([c for c in df.columns if 'Unnamed' in c], 1)\n",
    "        yield df\n",
    "\n",
    "df = pd.concat(get_frames())\n",
    "df.head()"
   ]
  },
  {
   "cell_type": "code",
   "execution_count": 3,
   "metadata": {
    "collapsed": true
   },
   "outputs": [],
   "source": [
    "df.to_csv('states.csv', index=False)"
   ]
  },
  {
   "cell_type": "code",
   "execution_count": 4,
   "metadata": {
    "collapsed": false
   },
   "outputs": [],
   "source": [
    "counts = df.groupby('ags').size()\n",
    "assert len(counts[counts != 18]) == 0"
   ]
  },
  {
   "cell_type": "code",
   "execution_count": 5,
   "metadata": {
    "collapsed": false
   },
   "outputs": [],
   "source": [
    "counts = df.groupby('state').size()\n",
    "assert len(counts) == 16"
   ]
  },
  {
   "cell_type": "code",
   "execution_count": 6,
   "metadata": {
    "collapsed": false
   },
   "outputs": [
    {
     "data": {
      "text/html": [
       "<div>\n",
       "<table border=\"1\" class=\"dataframe\">\n",
       "  <thead>\n",
       "    <tr style=\"text-align: right;\">\n",
       "      <th></th>\n",
       "      <th>ags</th>\n",
       "      <th>key</th>\n",
       "      <th>state</th>\n",
       "      <th>type</th>\n",
       "      <th>value</th>\n",
       "    </tr>\n",
       "  </thead>\n",
       "  <tbody>\n",
       "    <tr>\n",
       "      <th>115</th>\n",
       "      <td>13003</td>\n",
       "      <td>recipients_nursing_class_unknown</td>\n",
       "      <td>Mecklenburg-Vorpommern</td>\n",
       "      <td>recipients</td>\n",
       "      <td>NaN</td>\n",
       "    </tr>\n",
       "    <tr>\n",
       "      <th>119</th>\n",
       "      <td>13004</td>\n",
       "      <td>recipients_nursing_class_unknown</td>\n",
       "      <td>Mecklenburg-Vorpommern</td>\n",
       "      <td>recipients</td>\n",
       "      <td>NaN</td>\n",
       "    </tr>\n",
       "    <tr>\n",
       "      <th>123</th>\n",
       "      <td>13071</td>\n",
       "      <td>recipients_nursing_class_unknown</td>\n",
       "      <td>Mecklenburg-Vorpommern</td>\n",
       "      <td>recipients</td>\n",
       "      <td>NaN</td>\n",
       "    </tr>\n",
       "    <tr>\n",
       "      <th>116</th>\n",
       "      <td>05554</td>\n",
       "      <td>costs_nursing_class_1</td>\n",
       "      <td>Nordrhein-Westfalen</td>\n",
       "      <td>costs</td>\n",
       "      <td>NaN</td>\n",
       "    </tr>\n",
       "    <tr>\n",
       "      <th>117</th>\n",
       "      <td>05554</td>\n",
       "      <td>costs_nursing_class_2</td>\n",
       "      <td>Nordrhein-Westfalen</td>\n",
       "      <td>costs</td>\n",
       "      <td>NaN</td>\n",
       "    </tr>\n",
       "    <tr>\n",
       "      <th>118</th>\n",
       "      <td>05554</td>\n",
       "      <td>costs_nursing_class_3</td>\n",
       "      <td>Nordrhein-Westfalen</td>\n",
       "      <td>costs</td>\n",
       "      <td>NaN</td>\n",
       "    </tr>\n",
       "    <tr>\n",
       "      <th>119</th>\n",
       "      <td>05554</td>\n",
       "      <td>food</td>\n",
       "      <td>Nordrhein-Westfalen</td>\n",
       "      <td>costs</td>\n",
       "      <td>NaN</td>\n",
       "    </tr>\n",
       "    <tr>\n",
       "      <th>210</th>\n",
       "      <td>15081</td>\n",
       "      <td>recipients_nursing_class_3</td>\n",
       "      <td>Sachsen-Anhalt</td>\n",
       "      <td>recipients</td>\n",
       "      <td>NaN</td>\n",
       "    </tr>\n",
       "    <tr>\n",
       "      <th>211</th>\n",
       "      <td>15081</td>\n",
       "      <td>recipients_nursing_class_unknown</td>\n",
       "      <td>Sachsen-Anhalt</td>\n",
       "      <td>recipients</td>\n",
       "      <td>NaN</td>\n",
       "    </tr>\n",
       "    <tr>\n",
       "      <th>230</th>\n",
       "      <td>15086</td>\n",
       "      <td>recipients_nursing_class_3</td>\n",
       "      <td>Sachsen-Anhalt</td>\n",
       "      <td>recipients</td>\n",
       "      <td>NaN</td>\n",
       "    </tr>\n",
       "    <tr>\n",
       "      <th>231</th>\n",
       "      <td>15086</td>\n",
       "      <td>recipients_nursing_class_unknown</td>\n",
       "      <td>Sachsen-Anhalt</td>\n",
       "      <td>recipients</td>\n",
       "      <td>NaN</td>\n",
       "    </tr>\n",
       "  </tbody>\n",
       "</table>\n",
       "</div>"
      ],
      "text/plain": [
       "       ags                               key                   state  \\\n",
       "115  13003  recipients_nursing_class_unknown  Mecklenburg-Vorpommern   \n",
       "119  13004  recipients_nursing_class_unknown  Mecklenburg-Vorpommern   \n",
       "123  13071  recipients_nursing_class_unknown  Mecklenburg-Vorpommern   \n",
       "116  05554             costs_nursing_class_1     Nordrhein-Westfalen   \n",
       "117  05554             costs_nursing_class_2     Nordrhein-Westfalen   \n",
       "118  05554             costs_nursing_class_3     Nordrhein-Westfalen   \n",
       "119  05554                              food     Nordrhein-Westfalen   \n",
       "210  15081        recipients_nursing_class_3          Sachsen-Anhalt   \n",
       "211  15081  recipients_nursing_class_unknown          Sachsen-Anhalt   \n",
       "230  15086        recipients_nursing_class_3          Sachsen-Anhalt   \n",
       "231  15086  recipients_nursing_class_unknown          Sachsen-Anhalt   \n",
       "\n",
       "           type  value  \n",
       "115  recipients    NaN  \n",
       "119  recipients    NaN  \n",
       "123  recipients    NaN  \n",
       "116       costs    NaN  \n",
       "117       costs    NaN  \n",
       "118       costs    NaN  \n",
       "119       costs    NaN  \n",
       "210  recipients    NaN  \n",
       "211  recipients    NaN  \n",
       "230  recipients    NaN  \n",
       "231  recipients    NaN  "
      ]
     },
     "execution_count": 6,
     "metadata": {},
     "output_type": "execute_result"
    }
   ],
   "source": [
    "# NRW nulls come from empty cells\n",
    "# other are hidden for privacy reasons\n",
    "df[df['value'].isnull()]"
   ]
  },
  {
   "cell_type": "code",
   "execution_count": 7,
   "metadata": {
    "collapsed": false
   },
   "outputs": [
    {
     "data": {
      "text/plain": [
       "state\n",
       "Baden-Württemberg         0.431818\n",
       "Bayern                    0.572917\n",
       "Berlin                    7.000000\n",
       "Brandenburg               0.000000\n",
       "Bremen                    0.000000\n",
       "Hamburg                   6.000000\n",
       "Hessen                    2.153846\n",
       "Mecklenburg-Vorpommern    6.500000\n",
       "Niedersachsen             1.130435\n",
       "Nordrhein-Westfalen       0.132075\n",
       "Rheinland-Pfalz           0.388889\n",
       "Saarland                  0.666667\n",
       "Sachsen                   0.000000\n",
       "Sachsen-Anhalt            0.785714\n",
       "Schleswig-Holstein        1.933333\n",
       "Thüringen                 0.521739\n",
       "Name: value, dtype: float64"
      ]
     },
     "execution_count": 7,
     "metadata": {},
     "output_type": "execute_result"
    }
   ],
   "source": [
    "df[df['key'] == '4-bed'].groupby('state')['value'].mean()"
   ]
  },
  {
   "cell_type": "code",
   "execution_count": 8,
   "metadata": {
    "collapsed": false
   },
   "outputs": [],
   "source": [
    "qgrid.show_grid(df)"
   ]
  }
 ],
 "metadata": {
  "kernelspec": {
   "display_name": "Python 3",
   "language": "python",
   "name": "python3"
  },
  "language_info": {
   "codemirror_mode": {
    "name": "ipython",
    "version": 3
   },
   "file_extension": ".py",
   "mimetype": "text/x-python",
   "name": "python",
   "nbconvert_exporter": "python",
   "pygments_lexer": "ipython3",
   "version": "3.5.0"
  }
 },
 "nbformat": 4,
 "nbformat_minor": 0
}
